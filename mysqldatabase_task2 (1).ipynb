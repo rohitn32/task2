{
 "cells": [
  {
   "cell_type": "code",
   "execution_count": 5,
   "id": "0830a872",
   "metadata": {},
   "outputs": [],
   "source": [
    "#import the sql-connector\n",
    "import mysql.connector"
   ]
  },
  {
   "cell_type": "code",
   "execution_count": 6,
   "id": "64adedaa",
   "metadata": {},
   "outputs": [],
   "source": [
    "#create a connection\n",
    "con=mysql.connector.connect(host='localhost',user='root',password='Rohit@123',database=\"DEMO\")"
   ]
  },
  {
   "cell_type": "code",
   "execution_count": 7,
   "id": "9f94ba44",
   "metadata": {},
   "outputs": [],
   "source": [
    "#create a cursur\n",
    "cursor=con.cursor()"
   ]
  },
  {
   "cell_type": "code",
   "execution_count": 6,
   "id": "a43a6cc6",
   "metadata": {},
   "outputs": [],
   "source": [
    "#create a database table\n",
    "cursor.execute(\"CREATE DATABASE DEMO\")"
   ]
  },
  {
   "cell_type": "code",
   "execution_count": 9,
   "id": "3b3400b3",
   "metadata": {},
   "outputs": [],
   "source": [
    "#create a table\n",
    "cursor.execute(\"CREATE TABLE EMPLOYEE(ID INT PRIMARY KEY,NAME VARCHAR(20),EMAIL VARCHAR(20),CREATED_AT DATE)\")\n"
   ]
  },
  {
   "cell_type": "code",
   "execution_count": 10,
   "id": "50cd6570",
   "metadata": {},
   "outputs": [
    {
     "name": "stdout",
     "output_type": "stream",
     "text": [
      "4 insert sucessfull into table\n"
     ]
    }
   ],
   "source": [
    "#INSERT\n",
    "INSERT=\"INSERT INTO EMPLOYEE (ID,NAME,EMAIL,CREATED_AT) VALUES (%s,%s,%s,%s)\"\n",
    "VALUES=[\n",
    "        (\"1\",\"rohit\",\"rohith@gmil.com\",\"2000-01-01\"),\n",
    "        (\"2\",\"rahul\",\"rahul@gmil.com\",\"2001-07-03\"),\n",
    "        (\"3\",\"shiva\",\"shiva@gmil.com\",\"2002-03-14\"),\n",
    "        (\"4\",\"rama\",\"rama@gmil.com\",\"2004-01-17\")\n",
    "]\n",
    "cursor.executemany(INSERT,VALUES)\n",
    "print(cursor.rowcount , \"insert sucessfull into table\")\n",
    "con.commit()                \n",
    "                \n",
    "                \n",
    "                \n",
    "\n",
    "\n",
    "\n",
    "\n",
    "\n",
    "       \n",
    "\n"
   ]
  },
  {
   "cell_type": "code",
   "execution_count": 13,
   "id": "aa71d1e5",
   "metadata": {},
   "outputs": [
    {
     "name": "stdout",
     "output_type": "stream",
     "text": [
      "1 update suceesfull\n"
     ]
    }
   ],
   "source": [
    "#update\n",
    "UPDTAE=\"UPDATE EMPLOYEE SET EMAIL=%s WHERE EMAIL=%S\"\n",
    "VALUE=(\"rohithrock@gmail.com\",\"rohith@gmil.com\")\n",
    "cursor.execute(UPDATE,VALUE)\n",
    "print(cursor.rowcount,\"update suceesfull\")"
   ]
  },
  {
   "cell_type": "code",
   "execution_count": 15,
   "id": "d966b835",
   "metadata": {},
   "outputs": [
    {
     "name": "stdout",
     "output_type": "stream",
     "text": [
      "(1, 'rohit', 'rohithrock@gmail.com', datetime.date(2000, 1, 1))\n"
     ]
    }
   ],
   "source": [
    "#RETRIVE\n",
    "cursor.execute(\"SELECT * FROM EMPLOYEE WHERE ID =1\")\n",
    "R=cursor.fetchall()\n",
    "for row in R:\n",
    "    print(row)"
   ]
  },
  {
   "cell_type": "code",
   "execution_count": 17,
   "id": "88240092",
   "metadata": {},
   "outputs": [
    {
     "name": "stdout",
     "output_type": "stream",
     "text": [
      "1 record(s) deleted\n"
     ]
    }
   ],
   "source": [
    "#delete\n",
    "DELETE = \"DELETE FROM EMPLOYEE WHERE id = %s\"\n",
    "VAL = (\"1\",)\n",
    "cursor.execute(DELETE, VAL)\n",
    "con.commit()\n",
    "print(cursor.rowcount, \"record(s) deleted\")\n"
   ]
  },
  {
   "cell_type": "code",
   "execution_count": 18,
   "id": "c0424558",
   "metadata": {},
   "outputs": [],
   "source": [
    "cursor.close()#closed cursor\n",
    "con.close()#closed connection"
   ]
  },
  {
   "cell_type": "code",
   "execution_count": 1,
   "id": "900a3346",
   "metadata": {},
   "outputs": [
    {
     "data": {
      "text/plain": [
       "'CONSIDERATIONS\\nStrengths:\\n1.Data Integrity: Relational databases excel at maintaining data integrity through features like primary keys, foreign keys,\\nand constraints. This ensures data accuracy and consistency.\\n2.Normalization: Normalization helps to reduce data redundancy and improve data efficiency. \\nWeakness:\\n1.Limited Flexibility: Relational databases may not be the best fit for certain types of data,\\nsuch as unstructured or semi-structured data.    \\n2.Cost: Commercial relational database management systems (RDBMS) can be expensive, especially for large-scale deployments.\\n\\n1. Partitioning\\nHorizontal Partitioning:\\nDivides a large table into smaller tables based on a specific column or range of values.\\n2. Sharding\\nData Sharding:\\nDistributes data across multiple database servers (shards).\\nEach shard stores a subset of the overall data.'"
      ]
     },
     "execution_count": 1,
     "metadata": {},
     "output_type": "execute_result"
    }
   ],
   "source": [
    "\"\"\"CONSIDERATIONS\n",
    "Strengths:\n",
    "1.Data Integrity: Relational databases excel at maintaining data integrity through features like primary keys, foreign keys,\n",
    "and constraints. This ensures data accuracy and consistency.\n",
    "2.Normalization: Normalization helps to reduce data redundancy and improve data efficiency. \n",
    "Weakness:\n",
    "1.Limited Flexibility: Relational databases may not be the best fit for certain types of data,\n",
    "such as unstructured or semi-structured data.    \n",
    "2.Cost: Commercial relational database management systems (RDBMS) can be expensive, especially for large-scale deployments.\n",
    "\n",
    "1. Partitioning\n",
    "Horizontal Partitioning:\n",
    "Divides a large table into smaller tables based on a specific column or range of values.\n",
    "2. Sharding\n",
    "Data Sharding:\n",
    "Distributes data across multiple database servers (shards).\n",
    "Each shard stores a subset of the overall data.\"\"\"\n"
   ]
  },
  {
   "cell_type": "code",
   "execution_count": null,
   "id": "27cd38c2",
   "metadata": {},
   "outputs": [],
   "source": []
  },
  {
   "cell_type": "code",
   "execution_count": null,
   "id": "51e86226",
   "metadata": {},
   "outputs": [],
   "source": []
  },
  {
   "cell_type": "code",
   "execution_count": null,
   "id": "937e8b9b",
   "metadata": {},
   "outputs": [],
   "source": []
  },
  {
   "cell_type": "code",
   "execution_count": null,
   "id": "d712313c",
   "metadata": {},
   "outputs": [],
   "source": []
  },
  {
   "cell_type": "code",
   "execution_count": null,
   "id": "634a3183",
   "metadata": {},
   "outputs": [],
   "source": []
  },
  {
   "cell_type": "code",
   "execution_count": null,
   "id": "99a9eb58",
   "metadata": {},
   "outputs": [],
   "source": []
  }
 ],
 "metadata": {
  "kernelspec": {
   "display_name": "Python 3 (ipykernel)",
   "language": "python",
   "name": "python3"
  },
  "language_info": {
   "codemirror_mode": {
    "name": "ipython",
    "version": 3
   },
   "file_extension": ".py",
   "mimetype": "text/x-python",
   "name": "python",
   "nbconvert_exporter": "python",
   "pygments_lexer": "ipython3",
   "version": "3.11.5"
  }
 },
 "nbformat": 4,
 "nbformat_minor": 5
}
