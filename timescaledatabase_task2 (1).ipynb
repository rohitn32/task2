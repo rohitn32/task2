{
 "cells": [
  {
   "cell_type": "code",
   "execution_count": 5,
   "id": "c27b48fa",
   "metadata": {},
   "outputs": [],
   "source": [
    "import psycopg2 #import "
   ]
  },
  {
   "cell_type": "code",
   "execution_count": 21,
   "id": "c0de2df1",
   "metadata": {},
   "outputs": [],
   "source": [
    "# Connect to TimescaleDB\n",
    "conn = psycopg2.connect(dbname=\"tsdb\",\n",
    "                        user=\"tsdbadmin\", \n",
    "                        password=\"123456789012\",\n",
    "                        host=\"knvul39o7w.h6h0zemsdq.tsdb.cloud.timescale.com\",\n",
    "                        port=\"35782\")\n",
    "                        \n",
    "                        \n",
    "        \n",
    "                        \n",
    "    "
   ]
  },
  {
   "cell_type": "code",
   "execution_count": 18,
   "id": "189e2430",
   "metadata": {},
   "outputs": [],
   "source": [
    "#create a cursur\n",
    "cur=conn.cursor()"
   ]
  },
  {
   "cell_type": "code",
   "execution_count": 19,
   "id": "0c640006",
   "metadata": {},
   "outputs": [],
   "source": [
    "# Create table \n",
    "cur.execute(\"\"\"\n",
    "CREATE TABLE IF NOT EXISTS  metrics (\n",
    "    time TIMESTAMPTZ NOT NULL,\n",
    "    metric_name TEXT NOT NULL,\n",
    "    value DOUBLE PRECISION NOT NULL);\n",
    "\"\"\")\n",
    "\n",
    "\n"
   ]
  },
  {
   "cell_type": "code",
   "execution_count": 20,
   "id": "e06351d9",
   "metadata": {},
   "outputs": [],
   "source": [
    "conn.commit()"
   ]
  },
  {
   "cell_type": "code",
   "execution_count": 23,
   "id": "776b18be",
   "metadata": {},
   "outputs": [],
   "source": [
    "#insert data\n",
    "\n",
    "time = '2024-08-31 14:00:00'\n",
    "metric_name = 'cpu_usage'\n",
    "value = 75.5\n",
    "cur.execute(\"INSERT INTO metrics (time, metric_name, value) VALUES (%s, %s, %s)\", (time, metric_name, value))\n",
    "conn.commit()\n",
    "\n",
    "\n"
   ]
  },
  {
   "cell_type": "code",
   "execution_count": 30,
   "id": "0a703abf",
   "metadata": {},
   "outputs": [
    {
     "name": "stdout",
     "output_type": "stream",
     "text": [
      "2024-08-31 14:00:00\n",
      "cpu_usage\n",
      "75.5\n"
     ]
    },
    {
     "data": {
      "text/plain": [
       "(None, None, None)"
      ]
     },
     "execution_count": 30,
     "metadata": {},
     "output_type": "execute_result"
    }
   ],
   "source": [
    "print(time),print(metric_name),print(value)"
   ]
  },
  {
   "cell_type": "code",
   "execution_count": null,
   "id": "0e389597",
   "metadata": {},
   "outputs": [],
   "source": [
    "# Retrieve metrics within a specific time range"
   ]
  },
  {
   "cell_type": "code",
   "execution_count": 24,
   "id": "4b620c86",
   "metadata": {},
   "outputs": [
    {
     "name": "stdout",
     "output_type": "stream",
     "text": [
      "(datetime.datetime(2024, 8, 31, 14, 0, tzinfo=datetime.timezone.utc), 'cpu_usage', 75.5)\n"
     ]
    }
   ],
   "source": [
    "start_time = '2024-08-31 00:00:00'\n",
    "end_time = '2024-08-31 23:59:59'\n",
    "cur.execute(\"SELECT * FROM metrics WHERE time BETWEEN %s AND %s\", (start_time, end_time))\n",
    "metrics = cur.fetchall()\n",
    "for metric in metrics:\n",
    "    print(metric)"
   ]
  },
  {
   "cell_type": "code",
   "execution_count": null,
   "id": "eb9cfe13",
   "metadata": {},
   "outputs": [],
   "source": [
    "#Update existing metric data"
   ]
  },
  {
   "cell_type": "code",
   "execution_count": 25,
   "id": "7a02e20f",
   "metadata": {},
   "outputs": [],
   "source": [
    "new_value = 80.0\n",
    "cur.execute(\"UPDATE metrics SET value = %s WHERE time = %s AND metric_name = %s\", (new_value, time, metric_name))\n",
    "conn.commit()\n"
   ]
  },
  {
   "cell_type": "code",
   "execution_count": null,
   "id": "71a54a8f",
   "metadata": {},
   "outputs": [],
   "source": [
    "#delete oldmetriccdata"
   ]
  },
  {
   "cell_type": "code",
   "execution_count": 26,
   "id": "7cc2de3a",
   "metadata": {},
   "outputs": [],
   "source": [
    "cutoff_time = '2024-01-01 00:00:00'\n",
    "cur.execute(\"DELETE FROM metrics WHERE time < %s\", (cutoff_time,))\n",
    "conn.commit()\n"
   ]
  },
  {
   "cell_type": "code",
   "execution_count": null,
   "id": "ed8ddbaa",
   "metadata": {},
   "outputs": [],
   "source": [
    "#close the connection"
   ]
  },
  {
   "cell_type": "code",
   "execution_count": 27,
   "id": "104095c3",
   "metadata": {},
   "outputs": [],
   "source": [
    "cur.close()\n",
    "conn.close()\n"
   ]
  },
  {
   "cell_type": "code",
   "execution_count": null,
   "id": "a8ccfbd3",
   "metadata": {},
   "outputs": [],
   "source": [
    "Considerations:\n",
    "Explain the benefits of using a time-series database for this use case.\n",
    "1.Time-stamped: Has a specific point in time associated with it.\n",
    "2.continuous: Is generated or collected over time.   \n",
    "3.Large volumes: Involves significant amounts of data.   \n",
    "\n",
    "Benefits of a Time-Series Database:\n",
    "1.Efficient Data Storage: These databases often employ specialized data structures and compression techniques\n",
    "to optimize storage and reduce costs.\n",
    "2.Scalability: Time-series databases can handle large volumes of data and scale horizontally to accommodate growing data sets.\n",
    "\n",
    "   \n",
    "Discuss how to efficiently store and query large volumes of time-series data.\n",
    "\n",
    "Efficient Storage and Querying of Large Time-Series Data\n",
    "Storing and querying large volumes of time-series data efficiently is crucial for many applications,\n",
    "Here are some key strategies to consider\n",
    "   \n",
    "1. Columnar Storage:\n",
    "Optimized for Time-Series: Columnar storage, where data is organized in columns rather than rows, \n",
    "is ideal for time-series data because it allows for efficient querying of specific time ranges or data points.    \n",
    "\n",
    "2. Data Compression:   \n",
    "The best compression method depends on the characteristics of your data (e.g., sparsity, periodicity).\n",
    "    \n",
    "    \n",
    "    \n",
    "    \n",
    "    \n",
    "    \n",
    "    "
   ]
  }
 ],
 "metadata": {
  "kernelspec": {
   "display_name": "Python 3 (ipykernel)",
   "language": "python",
   "name": "python3"
  },
  "language_info": {
   "codemirror_mode": {
    "name": "ipython",
    "version": 3
   },
   "file_extension": ".py",
   "mimetype": "text/x-python",
   "name": "python",
   "nbconvert_exporter": "python",
   "pygments_lexer": "ipython3",
   "version": "3.11.5"
  }
 },
 "nbformat": 4,
 "nbformat_minor": 5
}
