{
 "cells": [
  {
   "cell_type": "code",
   "execution_count": 1,
   "id": "d5f5db53",
   "metadata": {},
   "outputs": [],
   "source": [
    "#proive api_key\n",
    "PINECONE_API_KEY=\"0c17fce4-f1e0-491b-9ae7-a9750f8bc5e0\"\n"
   ]
  },
  {
   "cell_type": "code",
   "execution_count": 4,
   "id": "92cf3aac",
   "metadata": {},
   "outputs": [
    {
     "name": "stdout",
     "output_type": "stream",
     "text": [
      "Requirement already satisfied: pinecone-client[grpc] in c:\\users\\rohit\\anaconda3\\lib\\site-packages (5.0.1)\n",
      "Requirement already satisfied: certifi>=2019.11.17 in c:\\users\\rohit\\anaconda3\\lib\\site-packages (from pinecone-client[grpc]) (2023.7.22)\n",
      "Requirement already satisfied: googleapis-common-protos>=1.53.0 in c:\\users\\rohit\\anaconda3\\lib\\site-packages (from pinecone-client[grpc]) (1.65.0)\n",
      "Requirement already satisfied: grpcio>=1.59.0 in c:\\users\\rohit\\anaconda3\\lib\\site-packages (from pinecone-client[grpc]) (1.66.1)\n",
      "Requirement already satisfied: lz4>=3.1.3 in c:\\users\\rohit\\anaconda3\\lib\\site-packages (from pinecone-client[grpc]) (4.3.2)\n",
      "Requirement already satisfied: pinecone-plugin-inference<2.0.0,>=1.0.3 in c:\\users\\rohit\\anaconda3\\lib\\site-packages (from pinecone-client[grpc]) (1.0.3)\n",
      "Requirement already satisfied: pinecone-plugin-interface<0.0.8,>=0.0.7 in c:\\users\\rohit\\anaconda3\\lib\\site-packages (from pinecone-client[grpc]) (0.0.7)\n",
      "Requirement already satisfied: protobuf<5.0,>=4.25 in c:\\users\\rohit\\anaconda3\\lib\\site-packages (from pinecone-client[grpc]) (4.25.4)\n",
      "Requirement already satisfied: protoc-gen-openapiv2<0.0.2,>=0.0.1 in c:\\users\\rohit\\anaconda3\\lib\\site-packages (from pinecone-client[grpc]) (0.0.1)\n",
      "Requirement already satisfied: tqdm>=4.64.1 in c:\\users\\rohit\\anaconda3\\lib\\site-packages (from pinecone-client[grpc]) (4.65.0)\n",
      "Requirement already satisfied: typing-extensions>=3.7.4 in c:\\users\\rohit\\anaconda3\\lib\\site-packages (from pinecone-client[grpc]) (4.7.1)\n",
      "Requirement already satisfied: urllib3>=1.26.0 in c:\\users\\rohit\\anaconda3\\lib\\site-packages (from pinecone-client[grpc]) (1.26.16)\n",
      "Requirement already satisfied: colorama in c:\\users\\rohit\\anaconda3\\lib\\site-packages (from tqdm>=4.64.1->pinecone-client[grpc]) (0.4.6)\n"
     ]
    }
   ],
   "source": [
    "!pip install \"pinecone-client[grpc]\""
   ]
  },
  {
   "cell_type": "code",
   "execution_count": 5,
   "id": "ff8d9cbf",
   "metadata": {},
   "outputs": [],
   "source": [
    "from pinecone.grpc import PineconeGRPC as Pinecone #import pinecone.grpc\n",
    "from pinecone import ServerlessSpec #import serverlessspec\n",
    "\n",
    "pc = Pinecone(api_key='0c17fce4-f1e0-491b-9ae7-a9750f8bc5e0')\n"
   ]
  },
  {
   "cell_type": "code",
   "execution_count": 14,
   "id": "603bce9f",
   "metadata": {},
   "outputs": [],
   "source": [
    "#create a index\n",
    "index_name = \"task2\"\n",
    "\n",
    "if index_name not in pc.list_indexes().names():\n",
    "    pc.create_index(\n",
    "        name=index_name,\n",
    "        dimension=4,\n",
    "        metric=\"cosine\",\n",
    "        spec=ServerlessSpec(\n",
    "            cloud='aws', \n",
    "            region='us-east-1'\n",
    "        ) \n",
    "    ) \n"
   ]
  },
  {
   "cell_type": "code",
   "execution_count": 15,
   "id": "04398c5e",
   "metadata": {},
   "outputs": [
    {
     "data": {
      "text/plain": [
       "upserted_count: 3"
      ]
     },
     "execution_count": 15,
     "metadata": {},
     "output_type": "execute_result"
    }
   ],
   "source": [
    "#insert vectors \n",
    "\n",
    "index = pc.Index(index_name)\n",
    "\n",
    "index.upsert(\n",
    "    vectors=[\n",
    "        {\"id\": \"vec1\", \"values\": [1.0, 1.5,1.0,1.0]},\n",
    "        {\"id\": \"vec2\", \"values\": [2.0, 1.0,1.5,1.0]},\n",
    "        {\"id\": \"vec3\", \"values\": [0.1, 3.0,2.0,1.0]},\n",
    "    ],\n",
    "    namespace=\"example-namespace1\"\n",
    ")\n",
    "\n",
    "index.upsert(\n",
    "    vectors=[\n",
    "        {\"id\": \"vec1\", \"values\": [1.0, -2.5,1.0,0.5]},\n",
    "        {\"id\": \"vec2\", \"values\": [3.0, -2.0,-1.0,0.5]},\n",
    "        {\"id\": \"vec3\", \"values\": [0.5, -1.5,1.0,0.5]},\n",
    "    ],\n",
    "    namespace=\"example-namespace2\"\n",
    ")\n"
   ]
  },
  {
   "cell_type": "code",
   "execution_count": 16,
   "id": "73890ee8",
   "metadata": {},
   "outputs": [
    {
     "name": "stdout",
     "output_type": "stream",
     "text": [
      "{'matches': [], 'namespace': '', 'usage': {'read_units': 1}}\n"
     ]
    }
   ],
   "source": [
    "# Perform a semantic search\n",
    "query_vector = [1.0, 1.5,1.0,1.0]\n",
    "results = index.query(query_vector, top_k=3)\n",
    "print(results)"
   ]
  },
  {
   "cell_type": "code",
   "execution_count": 21,
   "id": "238d27bc",
   "metadata": {},
   "outputs": [
    {
     "data": {
      "text/plain": [
       "upserted_count: 1"
      ]
     },
     "execution_count": 21,
     "metadata": {},
     "output_type": "execute_result"
    }
   ],
   "source": [
    "# Update a document\n",
    "doc_id = \"vec2\"\n",
    "new_content = [0.7, 0.8,0.9,1.0]\n",
    "index.upsert([(doc_id, new_content),])\n",
    "\n",
    "\n"
   ]
  },
  {
   "cell_type": "code",
   "execution_count": 22,
   "id": "cbf3f649",
   "metadata": {},
   "outputs": [
    {
     "data": {
      "text/plain": []
     },
     "execution_count": 22,
     "metadata": {},
     "output_type": "execute_result"
    }
   ],
   "source": [
    "# Delete a document\n",
    "index.delete([(\"vec2\"),\"example-namespace1\"])"
   ]
  },
  {
   "cell_type": "code",
   "execution_count": null,
   "id": "39fa7c76",
   "metadata": {},
   "outputs": [],
   "source": [
    "\"\"\"\"Considerations:\n",
    "Vector Databases for Semantic Search,\n",
    "Vector databases are particularly well-suited for semantic search because, \n",
    "they can efficiently store and retrieve high-dimensional vectors, which are,\n",
    "fundamental to representing and comparing semantic meaning.    \n",
    "1. Vector Representation of Meaning:\n",
    "Embeddings: Semantic search relies on converting text or other data into numerical representations called embeddings.\n",
    "    \n",
    "2. Real-time Search:\n",
    "Fast query response: Vector databases can provide real-time search results,\n",
    "making them ideal for applications that require immediate responses to user queries.\n",
    "\n",
    "Handling Large Volumes of Data and Scaling a Vector Database Solution:\n",
    "When dealing with large volumes of data in a vector database solution,\n",
    "scalability is a critical consideration. Here are some strategies to ensure your solution can handle growth.\n",
    "1. Horizontal Scaling:\n",
    "Distributed systems: Distribute the data and workload across multiple nodes in a cluster.\n",
    "    \n",
    "2. Indexing:\n",
    "Efficient retrieval: Create appropriate indexes to speed up nearest neighbor search operations.    \n",
    "\n",
    "\n",
    "\n",
    "\n",
    "\n",
    "\n",
    "\n",
    "\n",
    "\n",
    "\n",
    "\n",
    "\n",
    "\n"
   ]
  }
 ],
 "metadata": {
  "kernelspec": {
   "display_name": "Python 3 (ipykernel)",
   "language": "python",
   "name": "python3"
  },
  "language_info": {
   "codemirror_mode": {
    "name": "ipython",
    "version": 3
   },
   "file_extension": ".py",
   "mimetype": "text/x-python",
   "name": "python",
   "nbconvert_exporter": "python",
   "pygments_lexer": "ipython3",
   "version": "3.11.5"
  }
 },
 "nbformat": 4,
 "nbformat_minor": 5
}
