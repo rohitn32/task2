{
 "cells": [
  {
   "cell_type": "code",
   "execution_count": 4,
   "id": "3905e24c",
   "metadata": {},
   "outputs": [],
   "source": [
    "import redis"
   ]
  },
  {
   "cell_type": "code",
   "execution_count": 5,
   "id": "7acea834",
   "metadata": {},
   "outputs": [],
   "source": [
    "import uuid"
   ]
  },
  {
   "cell_type": "code",
   "execution_count": 6,
   "id": "2a099678",
   "metadata": {},
   "outputs": [],
   "source": [
    "# Generate a unique session ID\n",
    "session_id = str(uuid.uuid4())"
   ]
  },
  {
   "cell_type": "code",
   "execution_count": 7,
   "id": "0f4eb3bd",
   "metadata": {},
   "outputs": [],
   "source": [
    "# Connect to Redis\n",
    "r = redis.Redis(host='localhost', port=6379, db=0)\n"
   ]
  },
  {
   "cell_type": "code",
   "execution_count": 5,
   "id": "8f4c5567",
   "metadata": {},
   "outputs": [],
   "source": [
    "# User data\n",
    "user_data = {\"name\": \"rohit\", \"email\": \"rohit rock @gmail.com\"}"
   ]
  },
  {
   "cell_type": "code",
   "execution_count": 8,
   "id": "62329393",
   "metadata": {},
   "outputs": [
    {
     "name": "stderr",
     "output_type": "stream",
     "text": [
      "C:\\Users\\rohit\\AppData\\Local\\Temp\\ipykernel_16424\\3959333970.py:2: DeprecationWarning: Redis.hmset() is deprecated. Use Redis.hset() instead.\n",
      "  r.hmset(session_id, user_data)\n"
     ]
    },
    {
     "data": {
      "text/plain": [
       "True"
      ]
     },
     "execution_count": 8,
     "metadata": {},
     "output_type": "execute_result"
    }
   ],
   "source": [
    "# Store session data\n",
    "r.hmset(session_id, user_data)"
   ]
  },
  {
   "cell_type": "code",
   "execution_count": 9,
   "id": "f0625ce6",
   "metadata": {},
   "outputs": [
    {
     "name": "stdout",
     "output_type": "stream",
     "text": [
      "{b'name': b'rohit', b'email': b'rohit rock @gmail.com'}\n"
     ]
    }
   ],
   "source": [
    "# Retrieve session data by session ID\n",
    "session_data = r.hgetall(session_id)\n",
    "print(session_data)\n"
   ]
  },
  {
   "cell_type": "code",
   "execution_count": 10,
   "id": "47c36141",
   "metadata": {},
   "outputs": [
    {
     "name": "stderr",
     "output_type": "stream",
     "text": [
      "C:\\Users\\rohit\\AppData\\Local\\Temp\\ipykernel_16424\\1221177987.py:3: DeprecationWarning: Redis.hmset() is deprecated. Use Redis.hset() instead.\n",
      "  r.hmset(session_id, new_data)\n"
     ]
    },
    {
     "data": {
      "text/plain": [
       "True"
      ]
     },
     "execution_count": 10,
     "metadata": {},
     "output_type": "execute_result"
    }
   ],
   "source": [
    "# Update session data\n",
    "new_data = {'email': 'rohitroman@gm.com'}\n",
    "r.hmset(session_id, new_data)\n"
   ]
  },
  {
   "cell_type": "code",
   "execution_count": 8,
   "id": "bca354c2",
   "metadata": {},
   "outputs": [
    {
     "data": {
      "text/plain": [
       "0"
      ]
     },
     "execution_count": 8,
     "metadata": {},
     "output_type": "execute_result"
    }
   ],
   "source": [
    "# Delete session by session ID\n",
    "r.delete(session_id)\n"
   ]
  },
  {
   "cell_type": "code",
   "execution_count": null,
   "id": "a18172b6",
   "metadata": {},
   "outputs": [],
   "source": [
    "\"\"\"\"\"Considerations:\n",
    "Justify the use of a key-value database for session management:\n",
    "1. Simple Data Model:\n",
    "Key-value pairs: The straightforward key-value structure is well-suited for storing session data, \n",
    "which typically consists of simple key-value pairs (e.g., user ID, session ID, preferences).    \n",
    "2.5. Integration with Other Systems:\n",
    "API-driven: Key-value databases typically have well-defined APIs,\n",
    "making it easy to integrate with other components of a web application.\n",
    "\n",
    "Explain how to manage large amounts of data and maintain performance:\n",
    "    \n",
    "When dealing with large datasets, it's crucial to employ strategies that optimize storage, retrieval, and processing to maintain performance. \n",
    "Here are some effective techniques:\n",
    "\n",
    "1. Data Storage Optimization:\n",
    "Compression: Compressing data can significantly reduce storage space and improve I/O performance.    \n",
    "2. Query Optimization:\n",
    "Indexing: Create appropriate indexes to speed up query execution.\n",
    "\n",
    "\n",
    "\n",
    "\n"
   ]
  },
  {
   "cell_type": "code",
   "execution_count": null,
   "id": "5e74cd1c",
   "metadata": {},
   "outputs": [],
   "source": []
  },
  {
   "cell_type": "code",
   "execution_count": null,
   "id": "ad8c6d6d",
   "metadata": {},
   "outputs": [],
   "source": []
  }
 ],
 "metadata": {
  "kernelspec": {
   "display_name": "Python 3 (ipykernel)",
   "language": "python",
   "name": "python3"
  },
  "language_info": {
   "codemirror_mode": {
    "name": "ipython",
    "version": 3
   },
   "file_extension": ".py",
   "mimetype": "text/x-python",
   "name": "python",
   "nbconvert_exporter": "python",
   "pygments_lexer": "ipython3",
   "version": "3.11.5"
  }
 },
 "nbformat": 4,
 "nbformat_minor": 5
}
