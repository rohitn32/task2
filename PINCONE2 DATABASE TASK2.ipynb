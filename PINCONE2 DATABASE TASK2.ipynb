{
 "cells": [
  {
   "cell_type": "code",
   "execution_count": 1,
   "id": "1eaaceb3",
   "metadata": {},
   "outputs": [],
   "source": [
    "from pinecone.grpc import PineconeGRPC as Pinecone   #IMPORT PINECONE.GRPC\n",
    "from pinecone import ServerlessSpec                   #IMPORT SERVERLESSSPEC\n",
    "\n",
    "pc = Pinecone(api_key=\"0c17fce4-f1e0-491b-9ae7-a9750f8bc5e0\")\n",
    "\n",
    "\n",
    "\n",
    "pc.create_index(        #CREATE INDEX\n",
    "  name=\"index1\",\n",
    "  dimension=8,\n",
    "  metric=\"cosine\",\n",
    "  spec=ServerlessSpec(\n",
    "    cloud=\"aws\",\n",
    "    region=\"us-east-1\"\n",
    "  ),\n",
    "  deletion_protection=\"disabled\"\n",
    ")\n"
   ]
  },
  {
   "cell_type": "code",
   "execution_count": null,
   "id": "7e996768",
   "metadata": {},
   "outputs": [],
   "source": [
    "#INSERT INDEX USING INSERT FUNCTION"
   ]
  },
  {
   "cell_type": "code",
   "execution_count": 4,
   "id": "72b7b546",
   "metadata": {},
   "outputs": [
    {
     "data": {
      "text/plain": [
       "upserted_count: 5"
      ]
     },
     "execution_count": 4,
     "metadata": {},
     "output_type": "execute_result"
    }
   ],
   "source": [
    "index = pc.Index(\"index1\")\n",
    "\n",
    "index.upsert([\n",
    "    (\"A\", [0.1, 0.1, 0.1, 0.1, 0.1, 0.1, 0.1, 0.1]),\n",
    "    (\"B\", [0.2, 0.2, 0.2, 0.2, 0.2, 0.2, 0.2, 0.2]),\n",
    "    (\"C\", [0.3, 0.3, 0.3, 0.3, 0.3, 0.3, 0.3, 0.3]),\n",
    "    (\"D\", [0.4, 0.4, 0.4, 0.4, 0.4, 0.4, 0.4, 0.4]),\n",
    "    (\"E\", [0.5, 0.5, 0.5, 0.5, 0.5, 0.5, 0.5, 0.5])\n",
    "])"
   ]
  },
  {
   "cell_type": "code",
   "execution_count": null,
   "id": "20600bbb",
   "metadata": {},
   "outputs": [],
   "source": [
    "#DESCRIBE INDEX STATUS"
   ]
  },
  {
   "cell_type": "code",
   "execution_count": 5,
   "id": "4c4d18f4",
   "metadata": {},
   "outputs": [
    {
     "data": {
      "text/plain": [
       "{'dimension': 8,\n",
       " 'index_fullness': 0.0,\n",
       " 'namespaces': {'': {'vector_count': 5}},\n",
       " 'total_vector_count': 5}"
      ]
     },
     "execution_count": 5,
     "metadata": {},
     "output_type": "execute_result"
    }
   ],
   "source": [
    "index.describe_index_stats()\n"
   ]
  },
  {
   "cell_type": "code",
   "execution_count": null,
   "id": "9974ca8e",
   "metadata": {},
   "outputs": [],
   "source": [
    "#SEMATIC SERCH ON INDEX"
   ]
  },
  {
   "cell_type": "code",
   "execution_count": 6,
   "id": "d45d1268",
   "metadata": {},
   "outputs": [
    {
     "data": {
      "text/plain": [
       "{'matches': [{'id': 'B',\n",
       "              'metadata': None,\n",
       "              'score': 1.0,\n",
       "              'sparse_values': {'indices': [], 'values': []},\n",
       "              'values': [0.2, 0.2, 0.2, 0.2, 0.2, 0.2, 0.2, 0.2]},\n",
       "             {'id': 'C',\n",
       "              'metadata': None,\n",
       "              'score': 1.0,\n",
       "              'sparse_values': {'indices': [], 'values': []},\n",
       "              'values': [0.3, 0.3, 0.3, 0.3, 0.3, 0.3, 0.3, 0.3]},\n",
       "             {'id': 'A',\n",
       "              'metadata': None,\n",
       "              'score': 1.0,\n",
       "              'sparse_values': {'indices': [], 'values': []},\n",
       "              'values': [0.1, 0.1, 0.1, 0.1, 0.1, 0.1, 0.1, 0.1]}],\n",
       " 'namespace': '',\n",
       " 'usage': {'read_units': 6}}"
      ]
     },
     "execution_count": 6,
     "metadata": {},
     "output_type": "execute_result"
    }
   ],
   "source": [
    "index.query(\n",
    "  vector=[0.3, 0.3, 0.3, 0.3, 0.3, 0.3, 0.3, 0.3],\n",
    "  top_k=3,\n",
    "  include_values=True\n",
    ")"
   ]
  },
  {
   "cell_type": "code",
   "execution_count": null,
   "id": "209d0021",
   "metadata": {},
   "outputs": [],
   "source": [
    "#UPDATE A DOCUMENT"
   ]
  },
  {
   "cell_type": "code",
   "execution_count": 8,
   "id": "6354b944",
   "metadata": {},
   "outputs": [
    {
     "data": {
      "text/plain": [
       "upserted_count: 1"
      ]
     },
     "execution_count": 8,
     "metadata": {},
     "output_type": "execute_result"
    }
   ],
   "source": [
    "doc_id = \"A\"\n",
    "new_content = [0.7,0.7,0.7,0.7,0.7,0.7,0.7,0.7]\n",
    "index.upsert([(doc_id, new_content),])\n",
    "\n",
    "\n"
   ]
  },
  {
   "cell_type": "markdown",
   "id": "c696596d",
   "metadata": {},
   "source": []
  },
  {
   "cell_type": "code",
   "execution_count": 11,
   "id": "2bc830f2",
   "metadata": {},
   "outputs": [
    {
     "data": {
      "text/plain": []
     },
     "execution_count": 11,
     "metadata": {},
     "output_type": "execute_result"
    }
   ],
   "source": [
    "# Delete a document\n",
    "index.delete([(\"B\")])"
   ]
  },
  {
   "cell_type": "code",
   "execution_count": null,
   "id": "a15e110a",
   "metadata": {},
   "outputs": [],
   "source": []
  }
 ],
 "metadata": {
  "kernelspec": {
   "display_name": "Python 3 (ipykernel)",
   "language": "python",
   "name": "python3"
  },
  "language_info": {
   "codemirror_mode": {
    "name": "ipython",
    "version": 3
   },
   "file_extension": ".py",
   "mimetype": "text/x-python",
   "name": "python",
   "nbconvert_exporter": "python",
   "pygments_lexer": "ipython3",
   "version": "3.11.5"
  }
 },
 "nbformat": 4,
 "nbformat_minor": 5
}
